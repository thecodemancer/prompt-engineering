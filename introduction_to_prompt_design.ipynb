{
  "nbformat": 4,
  "nbformat_minor": 0,
  "metadata": {
    "colab": {
      "provenance": [],
      "authorship_tag": "ABX9TyOinyIGWzsoijti5vbvj6Qy",
      "include_colab_link": true
    },
    "kernelspec": {
      "name": "python3",
      "display_name": "Python 3"
    },
    "language_info": {
      "name": "python"
    }
  },
  "cells": [
    {
      "cell_type": "markdown",
      "metadata": {
        "id": "view-in-github",
        "colab_type": "text"
      },
      "source": [
        "<a href=\"https://colab.research.google.com/github/thecodemancer/prompt-engineering/blob/main/introduction_to_prompt_design.ipynb\" target=\"_parent\"><img src=\"https://colab.research.google.com/assets/colab-badge.svg\" alt=\"Open In Colab\"/></a>"
      ]
    },
    {
      "cell_type": "markdown",
      "source": [
        "# Introduction to prompt design\n"
      ],
      "metadata": {
        "id": "FNpklgQbrK4a"
      }
    },
    {
      "cell_type": "markdown",
      "source": [
        "*Prompt design* is the process of creating prompts that elicit the desired response from language models. Writing well structured prompts is an essential part of ensuring accurate, high quality responses from a language model. This course introduces some basic concepts, strategies, and best practices to get you started in designing prompts.\n",
        "\n"
      ],
      "metadata": {
        "id": "PbouYOYCrK2d"
      }
    },
    {
      "cell_type": "markdown",
      "source": [
        "## What is a prompt?\n",
        "\n",
        "A prompt is a natural language request submitted to a language model to receive a response back. Prompts can contain questions, instructions, contextual information, examples, and partial input for the model to complete or continue. After the model receives a prompt, depending on the type of model being used, it can generate text, embeddings, code, images, videos, music, and more.\n",
        "\n",
        "\n"
      ],
      "metadata": {
        "id": "uX3ooXAIrK0R"
      }
    },
    {
      "cell_type": "markdown",
      "source": [
        "## Prompt content types\n",
        "\n",
        "- Prompts can include one or more of the following types of content:\n",
        "- Input (required)\n",
        "  - Question input\n",
        "  - Task input\n",
        "  - Entity input\n",
        "  - Completion input\n",
        "- Context (optional)\n",
        "- Examples (optional)\n",
        "\n"
      ],
      "metadata": {
        "id": "dStpNy_8rKyA"
      }
    },
    {
      "cell_type": "markdown",
      "source": [
        "### Input\n",
        "An input is the text in the prompt that you want the model to provide a response for, and it's a required content type. Inputs can be a question that the model answers (question input), a task the model performs (task input), an entity the model operates on (entity input), or partial input that the model completes or continues (completion input).\n",
        "\n",
        "\n"
      ],
      "metadata": {
        "id": "cVPQMfKYrKvz"
      }
    },
    {
      "cell_type": "markdown",
      "source": [
        "### Question input\n",
        "\n",
        "A question input is a question that you ask the model that the model provides an answer to.\n",
        "\n",
        "Prompt:\n",
        "\n",
        "```\n",
        "What's a good name for a flower shop that specializes in selling bouquets of dried flowers?\n",
        "```\n",
        "Response:\n",
        "\n",
        "```\n",
        "* **Dried Blooms**\n",
        "* **Floral Arrangements**\n",
        "* **The Flower Shop**\n",
        "* **A Touch of Nature**\n",
        "* **Bouquets Galore**\n",
        "* **The Perfect Bloom**\n",
        "* **Scented Splendor**\n",
        "* **Dried Flower Arrangements**\n",
        "* **Preserved Petals**\n",
        "```\n"
      ],
      "metadata": {
        "id": "HpTdATq4rKtd"
      }
    },
    {
      "cell_type": "markdown",
      "source": [
        "### Task input\n",
        "A task input is a task that you want the model to perform. For example, you can tell the model to give you ideas or suggestions for something.\n",
        "\n",
        "Prompt:\n",
        "\n",
        "```\n",
        "Give me a list of things that I should bring with me to a camping trip.\n",
        "```\n",
        "Response:\n",
        "\n",
        "```\n",
        "Tent, sleeping bag, sleeping pad, camping stove, cooking utensils, food, water, first aid kit, flashlight, lantern, matches or lighter, trash bags, map and compass, sunscreen, insect repellent, hat, sunglasses, and rain gear.\n",
        "```\n",
        "\n"
      ],
      "metadata": {
        "id": "UDdMJOJnrKrR"
      }
    },
    {
      "cell_type": "markdown",
      "source": [
        "### Entity input\n",
        "An entity input is what the model performs an action on, such as classify or summarize. This type of input can benefit from the inclusion of instructions.\n",
        "\n",
        "Prompt:\n",
        "\n",
        "```\n",
        "Classify the following items as [large, small].\n",
        "Elephant\n",
        "Mouse\n",
        "Snail\n",
        "```\n",
        "\n",
        "Response:\n",
        "\n",
        "```\n",
        "Elephant is large.\n",
        "Mouse is small.\n",
        "Snail is small.\n",
        "```\n"
      ],
      "metadata": {
        "id": "8keKEPaPrKpM"
      }
    },
    {
      "cell_type": "markdown",
      "source": [
        "### Completion input\n",
        "A completion input is text that the model is expected to complete or continue.\n",
        "\n",
        "Prompt:\n",
        "\n",
        "```\n",
        "Some strategies to overcome writer's block include\n",
        "```\n",
        "\n",
        "Response:\n",
        "\n",
        "```\n",
        "* **Freewriting.** This is a technique where you write whatever comes to mind, without stopping to think about grammar or spelling. This can help you to generate ideas and get your creative juices flowing.\n",
        "* **Brainstorming.** This is a technique where you write down all of the ideas that come to mind, without judging them. Once you have a list of ideas, you can start to narrow them down and develop them further.\n",
        "* **Mind mapping.** This is a technique where you draw a diagram of your ideas, connecting them with lines to show how they relate to each other. This can help you to visualize your ideas and see how they fit together.\n",
        "* **Taking a break.** Sometimes, the best way to overcome writer's block is to take a break from writing and do something else for a while. This can help you to clear your head and come back to your writing with fresh eyes.\n",
        "* **Getting help from others.** If you're struggling to overcome writer's block, don't be afraid to ask for help from others. You can talk to a friend, family member, or teacher, or you can seek professional help from a therapist or writing coach.\n",
        "```\n"
      ],
      "metadata": {
        "id": "fcF-MoBTrKm-"
      }
    },
    {
      "cell_type": "markdown",
      "source": [
        "### Context\n",
        "\n",
        "Context can be one of the following:\n",
        "Instructions that specify how the model should behave.\n",
        "Information that the model uses or references to generate a response.\n",
        "\n",
        "Prompt:\n",
        "\n",
        "```\n",
        "Marbles:\n",
        "Color: red\n",
        "Number: 12\n",
        "Color: blue\n",
        "Number: 28\n",
        "Color: yellow\n",
        "Number: 15\n",
        "Color: green\n",
        "Number: 17\n",
        "How many green marbles are there?\n",
        "```\n",
        "\n",
        "Response:\n",
        "\n",
        "```\n",
        "There are 17 green marbles.\n",
        "```"
      ],
      "metadata": {
        "id": "jkpjbljDrKko"
      }
    },
    {
      "cell_type": "markdown",
      "source": [
        "### Examples\n",
        "Examples are input-output pairs that you include in the prompt to give the model an example of an ideal response. Including examples in the prompt is an effective strategy for customizing the response format.\n",
        "\n",
        "Prompt:\n",
        "\n",
        "```\n",
        "Classify the following.\n",
        "\n",
        "Options:\n",
        "\n",
        "- red wine\n",
        "- white wine\n",
        "\n",
        "Text: Chardonnay\n",
        "The answer is: white wine\n",
        "Text: Cabernet\n",
        "The answer is: red wine\n",
        "Text: Moscato\n",
        "The answer is: white wine\n",
        "Text: Riesling\n",
        "The answer is:\n",
        "```\n",
        "\n",
        "Response:\n",
        "```\n",
        "white wine\n",
        "```"
      ],
      "metadata": {
        "id": "SWYeSMA0rKiS"
      }
    },
    {
      "cell_type": "markdown",
      "metadata": {
        "id": "Ba3tYIzFYIUD"
      },
      "source": [
        "---\n",
        "If you made it this far, follow [David Regalado](https://beacons.ai/davidregalado) for more code!"
      ]
    }
  ]
}